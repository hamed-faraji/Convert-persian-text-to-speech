{
 "cells": [
  {
   "cell_type": "markdown",
   "metadata": {},
   "source": [
    "# Convert Persian Text To Speech\n",
    "\n",
    "**I use win32 package and i change persian word to finglish and convert it to voice** "
   ]
  },
  {
   "cell_type": "code",
   "execution_count": 7,
   "metadata": {},
   "outputs": [
    {
     "data": {
      "text/plain": [
       "1"
      ]
     },
     "execution_count": 7,
     "metadata": {},
     "output_type": "execute_result"
    }
   ],
   "source": [
    "import win32com.client as wincl\n",
    "\n",
    "Str_persian = \"سلام چ طوری\"\n",
    "Str_harf = \"\"\n",
    "Str = \"\"\n",
    "for i in Str_persian:\n",
    "    Str += switch_demo(i)\n",
    "\n",
    "\n",
    "\n",
    "speak = wincl.Dispatch(\"SAPI.SpVoice\")\n",
    "speak.Speak(Str)"
   ]
  },
  {
   "cell_type": "markdown",
   "metadata": {},
   "source": [
    "# Change words\n",
    "**Change each alphabet from persian to finglish via switch case**"
   ]
  },
  {
   "cell_type": "code",
   "execution_count": 5,
   "metadata": {},
   "outputs": [],
   "source": [
    "def switch_demo(argument):\n",
    "    switcher =  {\n",
    "         \"ا\":\"a\", \n",
    "        \"ب\":\"b\",\n",
    "        \"پ\":\"p\",\n",
    "        \"ث\":\"s\",\n",
    "        \"ج\":\"j\",\n",
    "        \"چ\":\"che\",\n",
    "        \"ح\":\"h\",\n",
    "        \"خ\":\"kh\",\n",
    "        \"د\":\"d\",\n",
    "        \"ذ\":\"z\",\n",
    "        \"ر\":\"r\",\n",
    "        \"ز\":\"z\",\n",
    "        \"ط\":\"t\",\n",
    "        \"ظ\":\"z\",\n",
    "        \"ع\":\"a\",\n",
    "        \"غ\":\"gh\",\n",
    "        \"ف\":\"f\",\n",
    "        \"ق\":\"gh\",\n",
    "        \"ص\":\"s\",\n",
    "        \"ض\":\"z\",\n",
    "        \"ک\":\"k\",\n",
    "        \"گ\":\"g\",\n",
    "        \"م\":\"m\",\n",
    "        \"ن\":\"n\",\n",
    "        \"ت\":\"t\",\n",
    "        \"ل\":\"la\",\n",
    "        \"ی\":\"y\",\n",
    "        \"س\":\"sa\",\n",
    "        \"ش\":\"sh\",\n",
    "        \"و\":\"oo\",\n",
    "        \"ه\":\"h\",\n",
    "        \"ئ\":\"y\",\n",
    "        \" \":\" \"\n",
    "        }\n",
    "    return switcher.get(argument)\n",
    "    "
   ]
  },
  {
   "cell_type": "code",
   "execution_count": null,
   "metadata": {},
   "outputs": [],
   "source": []
  }
 ],
 "metadata": {
  "kernelspec": {
   "display_name": "Python 3",
   "language": "python",
   "name": "python3"
  },
  "language_info": {
   "codemirror_mode": {
    "name": "ipython",
    "version": 3
   },
   "file_extension": ".py",
   "mimetype": "text/x-python",
   "name": "python",
   "nbconvert_exporter": "python",
   "pygments_lexer": "ipython3",
   "version": "3.6.6"
  }
 },
 "nbformat": 4,
 "nbformat_minor": 2
}
